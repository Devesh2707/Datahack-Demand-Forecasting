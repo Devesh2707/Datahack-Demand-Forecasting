{
 "cells": [
  {
   "cell_type": "code",
   "execution_count": 1,
   "metadata": {},
   "outputs": [],
   "source": [
    "import pandas as pd\n",
    "import numpy as np"
   ]
  },
  {
   "cell_type": "code",
   "execution_count": 2,
   "metadata": {},
   "outputs": [],
   "source": [
    "data = pd.read_csv('new_df.csv')"
   ]
  },
  {
   "cell_type": "code",
   "execution_count": 3,
   "metadata": {},
   "outputs": [
    {
     "data": {
      "text/html": [
       "<div>\n",
       "<style scoped>\n",
       "    .dataframe tbody tr th:only-of-type {\n",
       "        vertical-align: middle;\n",
       "    }\n",
       "\n",
       "    .dataframe tbody tr th {\n",
       "        vertical-align: top;\n",
       "    }\n",
       "\n",
       "    .dataframe thead th {\n",
       "        text-align: right;\n",
       "    }\n",
       "</style>\n",
       "<table border=\"1\" class=\"dataframe\">\n",
       "  <thead>\n",
       "    <tr style=\"text-align: right;\">\n",
       "      <th></th>\n",
       "      <th>record_ID</th>\n",
       "      <th>week</th>\n",
       "      <th>store_id</th>\n",
       "      <th>sku_id</th>\n",
       "      <th>total_price</th>\n",
       "      <th>base_price</th>\n",
       "      <th>is_featured_sku</th>\n",
       "      <th>is_display_sku</th>\n",
       "      <th>units_sold</th>\n",
       "      <th>Split</th>\n",
       "      <th>...</th>\n",
       "      <th>featured_display</th>\n",
       "      <th>DateType</th>\n",
       "      <th>Month</th>\n",
       "      <th>Median Sales</th>\n",
       "      <th>Key</th>\n",
       "      <th>DateLagged</th>\n",
       "      <th>LaggedSales</th>\n",
       "      <th>LaggedAvailable</th>\n",
       "      <th>Sales_dif</th>\n",
       "      <th>Difference</th>\n",
       "    </tr>\n",
       "  </thead>\n",
       "  <tbody>\n",
       "    <tr>\n",
       "      <th>0</th>\n",
       "      <td>1</td>\n",
       "      <td>2011-01-17</td>\n",
       "      <td>Store_8091</td>\n",
       "      <td>Product_216418</td>\n",
       "      <td>99.0375</td>\n",
       "      <td>111.8625</td>\n",
       "      <td>0</td>\n",
       "      <td>0</td>\n",
       "      <td>20.0</td>\n",
       "      <td>Train</td>\n",
       "      <td>...</td>\n",
       "      <td>0</td>\n",
       "      <td>2011-01-17</td>\n",
       "      <td>Month_1</td>\n",
       "      <td>28.5</td>\n",
       "      <td>Store_8091Product_216418Month_12011-01-17 00:0...</td>\n",
       "      <td>2011-01-10</td>\n",
       "      <td>28.5</td>\n",
       "      <td>0.0</td>\n",
       "      <td>0.0</td>\n",
       "      <td>8.5</td>\n",
       "    </tr>\n",
       "    <tr>\n",
       "      <th>1</th>\n",
       "      <td>1641</td>\n",
       "      <td>2011-01-24</td>\n",
       "      <td>Store_8091</td>\n",
       "      <td>Product_216418</td>\n",
       "      <td>99.0375</td>\n",
       "      <td>111.8625</td>\n",
       "      <td>0</td>\n",
       "      <td>0</td>\n",
       "      <td>34.0</td>\n",
       "      <td>Train</td>\n",
       "      <td>...</td>\n",
       "      <td>0</td>\n",
       "      <td>2011-01-24</td>\n",
       "      <td>Month_1</td>\n",
       "      <td>28.5</td>\n",
       "      <td>Store_8091Product_216418Month_12011-01-24 00:0...</td>\n",
       "      <td>2011-01-17</td>\n",
       "      <td>20.0</td>\n",
       "      <td>1.0</td>\n",
       "      <td>8.5</td>\n",
       "      <td>-5.5</td>\n",
       "    </tr>\n",
       "    <tr>\n",
       "      <th>2</th>\n",
       "      <td>3277</td>\n",
       "      <td>2011-01-31</td>\n",
       "      <td>Store_8091</td>\n",
       "      <td>Product_216418</td>\n",
       "      <td>96.9000</td>\n",
       "      <td>96.9000</td>\n",
       "      <td>0</td>\n",
       "      <td>0</td>\n",
       "      <td>10.0</td>\n",
       "      <td>Train</td>\n",
       "      <td>...</td>\n",
       "      <td>0</td>\n",
       "      <td>2011-01-31</td>\n",
       "      <td>Month_1</td>\n",
       "      <td>28.5</td>\n",
       "      <td>Store_8091Product_216418Month_12011-01-31 00:0...</td>\n",
       "      <td>2011-01-24</td>\n",
       "      <td>34.0</td>\n",
       "      <td>1.0</td>\n",
       "      <td>-5.5</td>\n",
       "      <td>18.5</td>\n",
       "    </tr>\n",
       "    <tr>\n",
       "      <th>3</th>\n",
       "      <td>45785</td>\n",
       "      <td>2011-01-08</td>\n",
       "      <td>Store_8091</td>\n",
       "      <td>Product_216418</td>\n",
       "      <td>87.6375</td>\n",
       "      <td>119.7000</td>\n",
       "      <td>0</td>\n",
       "      <td>0</td>\n",
       "      <td>12.0</td>\n",
       "      <td>Train</td>\n",
       "      <td>...</td>\n",
       "      <td>0</td>\n",
       "      <td>2011-01-08</td>\n",
       "      <td>Month_1</td>\n",
       "      <td>28.5</td>\n",
       "      <td>Store_8091Product_216418Month_12011-01-08 00:0...</td>\n",
       "      <td>2011-01-01</td>\n",
       "      <td>28.5</td>\n",
       "      <td>0.0</td>\n",
       "      <td>0.0</td>\n",
       "      <td>16.5</td>\n",
       "    </tr>\n",
       "    <tr>\n",
       "      <th>4</th>\n",
       "      <td>84981</td>\n",
       "      <td>2012-01-16</td>\n",
       "      <td>Store_8091</td>\n",
       "      <td>Product_216418</td>\n",
       "      <td>88.3500</td>\n",
       "      <td>106.1625</td>\n",
       "      <td>1</td>\n",
       "      <td>1</td>\n",
       "      <td>52.0</td>\n",
       "      <td>Train</td>\n",
       "      <td>...</td>\n",
       "      <td>0</td>\n",
       "      <td>2012-01-16</td>\n",
       "      <td>Month_1</td>\n",
       "      <td>28.5</td>\n",
       "      <td>Store_8091Product_216418Month_12012-01-16 00:0...</td>\n",
       "      <td>2012-01-09</td>\n",
       "      <td>28.5</td>\n",
       "      <td>0.0</td>\n",
       "      <td>0.0</td>\n",
       "      <td>-23.5</td>\n",
       "    </tr>\n",
       "  </tbody>\n",
       "</table>\n",
       "<p>5 rows × 21 columns</p>\n",
       "</div>"
      ],
      "text/plain": [
       "   record_ID        week    store_id          sku_id  total_price  base_price  \\\n",
       "0          1  2011-01-17  Store_8091  Product_216418      99.0375    111.8625   \n",
       "1       1641  2011-01-24  Store_8091  Product_216418      99.0375    111.8625   \n",
       "2       3277  2011-01-31  Store_8091  Product_216418      96.9000     96.9000   \n",
       "3      45785  2011-01-08  Store_8091  Product_216418      87.6375    119.7000   \n",
       "4      84981  2012-01-16  Store_8091  Product_216418      88.3500    106.1625   \n",
       "\n",
       "   is_featured_sku  is_display_sku  units_sold  Split  ...  featured_display  \\\n",
       "0                0               0        20.0  Train  ...                 0   \n",
       "1                0               0        34.0  Train  ...                 0   \n",
       "2                0               0        10.0  Train  ...                 0   \n",
       "3                0               0        12.0  Train  ...                 0   \n",
       "4                1               1        52.0  Train  ...                 0   \n",
       "\n",
       "     DateType    Month Median Sales  \\\n",
       "0  2011-01-17  Month_1         28.5   \n",
       "1  2011-01-24  Month_1         28.5   \n",
       "2  2011-01-31  Month_1         28.5   \n",
       "3  2011-01-08  Month_1         28.5   \n",
       "4  2012-01-16  Month_1         28.5   \n",
       "\n",
       "                                                 Key  DateLagged LaggedSales  \\\n",
       "0  Store_8091Product_216418Month_12011-01-17 00:0...  2011-01-10        28.5   \n",
       "1  Store_8091Product_216418Month_12011-01-24 00:0...  2011-01-17        20.0   \n",
       "2  Store_8091Product_216418Month_12011-01-31 00:0...  2011-01-24        34.0   \n",
       "3  Store_8091Product_216418Month_12011-01-08 00:0...  2011-01-01        28.5   \n",
       "4  Store_8091Product_216418Month_12012-01-16 00:0...  2012-01-09        28.5   \n",
       "\n",
       "   LaggedAvailable  Sales_dif  Difference  \n",
       "0              0.0        0.0         8.5  \n",
       "1              1.0        8.5        -5.5  \n",
       "2              1.0       -5.5        18.5  \n",
       "3              0.0        0.0        16.5  \n",
       "4              0.0        0.0       -23.5  \n",
       "\n",
       "[5 rows x 21 columns]"
      ]
     },
     "execution_count": 3,
     "metadata": {},
     "output_type": "execute_result"
    }
   ],
   "source": [
    "data.head()"
   ]
  },
  {
   "cell_type": "code",
   "execution_count": 130,
   "metadata": {},
   "outputs": [],
   "source": [
    "label_encode = ['store_id', 'sku_id', 'Month']\n",
    "from sklearn.preprocessing import LabelEncoder\n",
    "\n",
    "encoder = LabelEncoder()\n",
    "\n",
    "\n",
    "for label in label_encode:\n",
    "    data[label] = encoder.fit_transform(data[label])"
   ]
  },
  {
   "cell_type": "code",
   "execution_count": 131,
   "metadata": {},
   "outputs": [],
   "source": [
    "train = data[data['Split'] == 'Train']\n",
    "test = data[data['Split'] == 'Test']"
   ]
  },
  {
   "cell_type": "code",
   "execution_count": 132,
   "metadata": {},
   "outputs": [
    {
     "data": {
      "text/html": [
       "<div>\n",
       "<style scoped>\n",
       "    .dataframe tbody tr th:only-of-type {\n",
       "        vertical-align: middle;\n",
       "    }\n",
       "\n",
       "    .dataframe tbody tr th {\n",
       "        vertical-align: top;\n",
       "    }\n",
       "\n",
       "    .dataframe thead th {\n",
       "        text-align: right;\n",
       "    }\n",
       "</style>\n",
       "<table border=\"1\" class=\"dataframe\">\n",
       "  <thead>\n",
       "    <tr style=\"text-align: right;\">\n",
       "      <th></th>\n",
       "      <th>record_ID</th>\n",
       "      <th>week</th>\n",
       "      <th>store_id</th>\n",
       "      <th>sku_id</th>\n",
       "      <th>total_price</th>\n",
       "      <th>base_price</th>\n",
       "      <th>is_featured_sku</th>\n",
       "      <th>is_display_sku</th>\n",
       "      <th>units_sold</th>\n",
       "      <th>Split</th>\n",
       "      <th>...</th>\n",
       "      <th>featured_display</th>\n",
       "      <th>DateType</th>\n",
       "      <th>Month</th>\n",
       "      <th>Median Sales</th>\n",
       "      <th>Key</th>\n",
       "      <th>DateLagged</th>\n",
       "      <th>LaggedSales</th>\n",
       "      <th>LaggedAvailable</th>\n",
       "      <th>Sales_dif</th>\n",
       "      <th>Difference</th>\n",
       "    </tr>\n",
       "  </thead>\n",
       "  <tbody>\n",
       "    <tr>\n",
       "      <th>0</th>\n",
       "      <td>1</td>\n",
       "      <td>2011-01-17</td>\n",
       "      <td>3</td>\n",
       "      <td>1</td>\n",
       "      <td>99.0375</td>\n",
       "      <td>111.8625</td>\n",
       "      <td>0</td>\n",
       "      <td>0</td>\n",
       "      <td>20.0</td>\n",
       "      <td>Train</td>\n",
       "      <td>...</td>\n",
       "      <td>0</td>\n",
       "      <td>2011-01-17</td>\n",
       "      <td>0</td>\n",
       "      <td>28.5</td>\n",
       "      <td>Store_8091Product_216418Month_12011-01-17 00:0...</td>\n",
       "      <td>2011-01-10</td>\n",
       "      <td>28.5</td>\n",
       "      <td>0.0</td>\n",
       "      <td>0.0</td>\n",
       "      <td>8.5</td>\n",
       "    </tr>\n",
       "    <tr>\n",
       "      <th>1</th>\n",
       "      <td>1641</td>\n",
       "      <td>2011-01-24</td>\n",
       "      <td>3</td>\n",
       "      <td>1</td>\n",
       "      <td>99.0375</td>\n",
       "      <td>111.8625</td>\n",
       "      <td>0</td>\n",
       "      <td>0</td>\n",
       "      <td>34.0</td>\n",
       "      <td>Train</td>\n",
       "      <td>...</td>\n",
       "      <td>0</td>\n",
       "      <td>2011-01-24</td>\n",
       "      <td>0</td>\n",
       "      <td>28.5</td>\n",
       "      <td>Store_8091Product_216418Month_12011-01-24 00:0...</td>\n",
       "      <td>2011-01-17</td>\n",
       "      <td>20.0</td>\n",
       "      <td>1.0</td>\n",
       "      <td>8.5</td>\n",
       "      <td>-5.5</td>\n",
       "    </tr>\n",
       "    <tr>\n",
       "      <th>2</th>\n",
       "      <td>3277</td>\n",
       "      <td>2011-01-31</td>\n",
       "      <td>3</td>\n",
       "      <td>1</td>\n",
       "      <td>96.9000</td>\n",
       "      <td>96.9000</td>\n",
       "      <td>0</td>\n",
       "      <td>0</td>\n",
       "      <td>10.0</td>\n",
       "      <td>Train</td>\n",
       "      <td>...</td>\n",
       "      <td>0</td>\n",
       "      <td>2011-01-31</td>\n",
       "      <td>0</td>\n",
       "      <td>28.5</td>\n",
       "      <td>Store_8091Product_216418Month_12011-01-31 00:0...</td>\n",
       "      <td>2011-01-24</td>\n",
       "      <td>34.0</td>\n",
       "      <td>1.0</td>\n",
       "      <td>-5.5</td>\n",
       "      <td>18.5</td>\n",
       "    </tr>\n",
       "    <tr>\n",
       "      <th>3</th>\n",
       "      <td>45785</td>\n",
       "      <td>2011-01-08</td>\n",
       "      <td>3</td>\n",
       "      <td>1</td>\n",
       "      <td>87.6375</td>\n",
       "      <td>119.7000</td>\n",
       "      <td>0</td>\n",
       "      <td>0</td>\n",
       "      <td>12.0</td>\n",
       "      <td>Train</td>\n",
       "      <td>...</td>\n",
       "      <td>0</td>\n",
       "      <td>2011-01-08</td>\n",
       "      <td>0</td>\n",
       "      <td>28.5</td>\n",
       "      <td>Store_8091Product_216418Month_12011-01-08 00:0...</td>\n",
       "      <td>2011-01-01</td>\n",
       "      <td>28.5</td>\n",
       "      <td>0.0</td>\n",
       "      <td>0.0</td>\n",
       "      <td>16.5</td>\n",
       "    </tr>\n",
       "    <tr>\n",
       "      <th>4</th>\n",
       "      <td>84981</td>\n",
       "      <td>2012-01-16</td>\n",
       "      <td>3</td>\n",
       "      <td>1</td>\n",
       "      <td>88.3500</td>\n",
       "      <td>106.1625</td>\n",
       "      <td>1</td>\n",
       "      <td>1</td>\n",
       "      <td>52.0</td>\n",
       "      <td>Train</td>\n",
       "      <td>...</td>\n",
       "      <td>0</td>\n",
       "      <td>2012-01-16</td>\n",
       "      <td>0</td>\n",
       "      <td>28.5</td>\n",
       "      <td>Store_8091Product_216418Month_12012-01-16 00:0...</td>\n",
       "      <td>2012-01-09</td>\n",
       "      <td>28.5</td>\n",
       "      <td>0.0</td>\n",
       "      <td>0.0</td>\n",
       "      <td>-23.5</td>\n",
       "    </tr>\n",
       "  </tbody>\n",
       "</table>\n",
       "<p>5 rows × 21 columns</p>\n",
       "</div>"
      ],
      "text/plain": [
       "   record_ID        week  store_id  sku_id  total_price  base_price  \\\n",
       "0          1  2011-01-17         3       1      99.0375    111.8625   \n",
       "1       1641  2011-01-24         3       1      99.0375    111.8625   \n",
       "2       3277  2011-01-31         3       1      96.9000     96.9000   \n",
       "3      45785  2011-01-08         3       1      87.6375    119.7000   \n",
       "4      84981  2012-01-16         3       1      88.3500    106.1625   \n",
       "\n",
       "   is_featured_sku  is_display_sku  units_sold  Split  ...  featured_display  \\\n",
       "0                0               0        20.0  Train  ...                 0   \n",
       "1                0               0        34.0  Train  ...                 0   \n",
       "2                0               0        10.0  Train  ...                 0   \n",
       "3                0               0        12.0  Train  ...                 0   \n",
       "4                1               1        52.0  Train  ...                 0   \n",
       "\n",
       "     DateType Month  Median Sales  \\\n",
       "0  2011-01-17     0          28.5   \n",
       "1  2011-01-24     0          28.5   \n",
       "2  2011-01-31     0          28.5   \n",
       "3  2011-01-08     0          28.5   \n",
       "4  2012-01-16     0          28.5   \n",
       "\n",
       "                                                 Key  DateLagged LaggedSales  \\\n",
       "0  Store_8091Product_216418Month_12011-01-17 00:0...  2011-01-10        28.5   \n",
       "1  Store_8091Product_216418Month_12011-01-24 00:0...  2011-01-17        20.0   \n",
       "2  Store_8091Product_216418Month_12011-01-31 00:0...  2011-01-24        34.0   \n",
       "3  Store_8091Product_216418Month_12011-01-08 00:0...  2011-01-01        28.5   \n",
       "4  Store_8091Product_216418Month_12012-01-16 00:0...  2012-01-09        28.5   \n",
       "\n",
       "   LaggedAvailable  Sales_dif  Difference  \n",
       "0              0.0        0.0         8.5  \n",
       "1              1.0        8.5        -5.5  \n",
       "2              1.0       -5.5        18.5  \n",
       "3              0.0        0.0        16.5  \n",
       "4              0.0        0.0       -23.5  \n",
       "\n",
       "[5 rows x 21 columns]"
      ]
     },
     "execution_count": 132,
     "metadata": {},
     "output_type": "execute_result"
    }
   ],
   "source": [
    "train.head()"
   ]
  },
  {
   "cell_type": "code",
   "execution_count": 133,
   "metadata": {},
   "outputs": [],
   "source": [
    "train = train.sort_values('record_ID').reset_index(drop = True)"
   ]
  },
  {
   "cell_type": "code",
   "execution_count": 134,
   "metadata": {},
   "outputs": [
    {
     "data": {
      "text/plain": [
       "150150"
      ]
     },
     "execution_count": 134,
     "metadata": {},
     "output_type": "execute_result"
    }
   ],
   "source": [
    "len(train)"
   ]
  },
  {
   "cell_type": "code",
   "execution_count": 135,
   "metadata": {},
   "outputs": [
    {
     "data": {
      "text/plain": [
       "13860"
      ]
     },
     "execution_count": 135,
     "metadata": {},
     "output_type": "execute_result"
    }
   ],
   "source": [
    "len(test)"
   ]
  },
  {
   "cell_type": "code",
   "execution_count": 136,
   "metadata": {},
   "outputs": [],
   "source": [
    "train_x = train[:137461]\n",
    "val_x = train[137461:]"
   ]
  },
  {
   "cell_type": "code",
   "execution_count": 137,
   "metadata": {},
   "outputs": [
    {
     "data": {
      "text/html": [
       "<div>\n",
       "<style scoped>\n",
       "    .dataframe tbody tr th:only-of-type {\n",
       "        vertical-align: middle;\n",
       "    }\n",
       "\n",
       "    .dataframe tbody tr th {\n",
       "        vertical-align: top;\n",
       "    }\n",
       "\n",
       "    .dataframe thead th {\n",
       "        text-align: right;\n",
       "    }\n",
       "</style>\n",
       "<table border=\"1\" class=\"dataframe\">\n",
       "  <thead>\n",
       "    <tr style=\"text-align: right;\">\n",
       "      <th></th>\n",
       "      <th>record_ID</th>\n",
       "      <th>week</th>\n",
       "      <th>store_id</th>\n",
       "      <th>sku_id</th>\n",
       "      <th>total_price</th>\n",
       "      <th>base_price</th>\n",
       "      <th>is_featured_sku</th>\n",
       "      <th>is_display_sku</th>\n",
       "      <th>units_sold</th>\n",
       "      <th>Split</th>\n",
       "      <th>...</th>\n",
       "      <th>featured_display</th>\n",
       "      <th>DateType</th>\n",
       "      <th>Month</th>\n",
       "      <th>Median Sales</th>\n",
       "      <th>Key</th>\n",
       "      <th>DateLagged</th>\n",
       "      <th>LaggedSales</th>\n",
       "      <th>LaggedAvailable</th>\n",
       "      <th>Sales_dif</th>\n",
       "      <th>Difference</th>\n",
       "    </tr>\n",
       "  </thead>\n",
       "  <tbody>\n",
       "    <tr>\n",
       "      <th>0</th>\n",
       "      <td>1</td>\n",
       "      <td>2011-01-17</td>\n",
       "      <td>3</td>\n",
       "      <td>1</td>\n",
       "      <td>99.0375</td>\n",
       "      <td>111.8625</td>\n",
       "      <td>0</td>\n",
       "      <td>0</td>\n",
       "      <td>20.0</td>\n",
       "      <td>Train</td>\n",
       "      <td>...</td>\n",
       "      <td>0</td>\n",
       "      <td>2011-01-17</td>\n",
       "      <td>0</td>\n",
       "      <td>28.5</td>\n",
       "      <td>Store_8091Product_216418Month_12011-01-17 00:0...</td>\n",
       "      <td>2011-01-10</td>\n",
       "      <td>28.5</td>\n",
       "      <td>0.0</td>\n",
       "      <td>0.0</td>\n",
       "      <td>8.5</td>\n",
       "    </tr>\n",
       "    <tr>\n",
       "      <th>1</th>\n",
       "      <td>2</td>\n",
       "      <td>2011-01-17</td>\n",
       "      <td>3</td>\n",
       "      <td>2</td>\n",
       "      <td>99.0375</td>\n",
       "      <td>99.0375</td>\n",
       "      <td>0</td>\n",
       "      <td>0</td>\n",
       "      <td>28.0</td>\n",
       "      <td>Train</td>\n",
       "      <td>...</td>\n",
       "      <td>0</td>\n",
       "      <td>2011-01-17</td>\n",
       "      <td>0</td>\n",
       "      <td>33.0</td>\n",
       "      <td>Store_8091Product_216419Month_12011-01-17 00:0...</td>\n",
       "      <td>2011-01-10</td>\n",
       "      <td>33.0</td>\n",
       "      <td>0.0</td>\n",
       "      <td>0.0</td>\n",
       "      <td>5.0</td>\n",
       "    </tr>\n",
       "    <tr>\n",
       "      <th>2</th>\n",
       "      <td>3</td>\n",
       "      <td>2011-01-17</td>\n",
       "      <td>3</td>\n",
       "      <td>3</td>\n",
       "      <td>133.9500</td>\n",
       "      <td>133.9500</td>\n",
       "      <td>0</td>\n",
       "      <td>0</td>\n",
       "      <td>19.0</td>\n",
       "      <td>Train</td>\n",
       "      <td>...</td>\n",
       "      <td>0</td>\n",
       "      <td>2011-01-17</td>\n",
       "      <td>0</td>\n",
       "      <td>25.5</td>\n",
       "      <td>Store_8091Product_216425Month_12011-01-17 00:0...</td>\n",
       "      <td>2011-01-10</td>\n",
       "      <td>25.5</td>\n",
       "      <td>0.0</td>\n",
       "      <td>0.0</td>\n",
       "      <td>6.5</td>\n",
       "    </tr>\n",
       "    <tr>\n",
       "      <th>3</th>\n",
       "      <td>4</td>\n",
       "      <td>2011-01-17</td>\n",
       "      <td>3</td>\n",
       "      <td>0</td>\n",
       "      <td>133.9500</td>\n",
       "      <td>133.9500</td>\n",
       "      <td>0</td>\n",
       "      <td>0</td>\n",
       "      <td>44.0</td>\n",
       "      <td>Train</td>\n",
       "      <td>...</td>\n",
       "      <td>0</td>\n",
       "      <td>2011-01-17</td>\n",
       "      <td>0</td>\n",
       "      <td>27.5</td>\n",
       "      <td>Store_8091Product_216233Month_12011-01-17 00:0...</td>\n",
       "      <td>2011-01-10</td>\n",
       "      <td>27.5</td>\n",
       "      <td>0.0</td>\n",
       "      <td>0.0</td>\n",
       "      <td>-16.5</td>\n",
       "    </tr>\n",
       "    <tr>\n",
       "      <th>4</th>\n",
       "      <td>5</td>\n",
       "      <td>2011-01-17</td>\n",
       "      <td>3</td>\n",
       "      <td>5</td>\n",
       "      <td>141.0750</td>\n",
       "      <td>141.0750</td>\n",
       "      <td>0</td>\n",
       "      <td>0</td>\n",
       "      <td>52.0</td>\n",
       "      <td>Train</td>\n",
       "      <td>...</td>\n",
       "      <td>0</td>\n",
       "      <td>2011-01-17</td>\n",
       "      <td>0</td>\n",
       "      <td>30.5</td>\n",
       "      <td>Store_8091Product_217390Month_12011-01-17 00:0...</td>\n",
       "      <td>2011-01-10</td>\n",
       "      <td>30.5</td>\n",
       "      <td>0.0</td>\n",
       "      <td>0.0</td>\n",
       "      <td>-21.5</td>\n",
       "    </tr>\n",
       "  </tbody>\n",
       "</table>\n",
       "<p>5 rows × 21 columns</p>\n",
       "</div>"
      ],
      "text/plain": [
       "   record_ID        week  store_id  sku_id  total_price  base_price  \\\n",
       "0          1  2011-01-17         3       1      99.0375    111.8625   \n",
       "1          2  2011-01-17         3       2      99.0375     99.0375   \n",
       "2          3  2011-01-17         3       3     133.9500    133.9500   \n",
       "3          4  2011-01-17         3       0     133.9500    133.9500   \n",
       "4          5  2011-01-17         3       5     141.0750    141.0750   \n",
       "\n",
       "   is_featured_sku  is_display_sku  units_sold  Split  ...  featured_display  \\\n",
       "0                0               0        20.0  Train  ...                 0   \n",
       "1                0               0        28.0  Train  ...                 0   \n",
       "2                0               0        19.0  Train  ...                 0   \n",
       "3                0               0        44.0  Train  ...                 0   \n",
       "4                0               0        52.0  Train  ...                 0   \n",
       "\n",
       "     DateType Month  Median Sales  \\\n",
       "0  2011-01-17     0          28.5   \n",
       "1  2011-01-17     0          33.0   \n",
       "2  2011-01-17     0          25.5   \n",
       "3  2011-01-17     0          27.5   \n",
       "4  2011-01-17     0          30.5   \n",
       "\n",
       "                                                 Key  DateLagged LaggedSales  \\\n",
       "0  Store_8091Product_216418Month_12011-01-17 00:0...  2011-01-10        28.5   \n",
       "1  Store_8091Product_216419Month_12011-01-17 00:0...  2011-01-10        33.0   \n",
       "2  Store_8091Product_216425Month_12011-01-17 00:0...  2011-01-10        25.5   \n",
       "3  Store_8091Product_216233Month_12011-01-17 00:0...  2011-01-10        27.5   \n",
       "4  Store_8091Product_217390Month_12011-01-17 00:0...  2011-01-10        30.5   \n",
       "\n",
       "   LaggedAvailable  Sales_dif  Difference  \n",
       "0              0.0        0.0         8.5  \n",
       "1              0.0        0.0         5.0  \n",
       "2              0.0        0.0         6.5  \n",
       "3              0.0        0.0       -16.5  \n",
       "4              0.0        0.0       -21.5  \n",
       "\n",
       "[5 rows x 21 columns]"
      ]
     },
     "execution_count": 137,
     "metadata": {},
     "output_type": "execute_result"
    }
   ],
   "source": [
    "train_x.head()"
   ]
  },
  {
   "cell_type": "code",
   "execution_count": 170,
   "metadata": {},
   "outputs": [],
   "source": [
    "selector = [\n",
    "    'store_id',\n",
    "    'sku_id',\n",
    "    'total_price',\n",
    "    'base_price',\n",
    "    'is_featured_sku',\n",
    "    'is_display_sku',\n",
    "    'featured_display',\n",
    "    'Month',\n",
    "    'Median Sales',\n",
    "    'LaggedSales',\n",
    "    'LaggedAvailable',\n",
    "    'Sales_dif'\n",
    "]"
   ]
  },
  {
   "cell_type": "code",
   "execution_count": 143,
   "metadata": {},
   "outputs": [
    {
     "data": {
      "text/html": [
       "<div>\n",
       "<style scoped>\n",
       "    .dataframe tbody tr th:only-of-type {\n",
       "        vertical-align: middle;\n",
       "    }\n",
       "\n",
       "    .dataframe tbody tr th {\n",
       "        vertical-align: top;\n",
       "    }\n",
       "\n",
       "    .dataframe thead th {\n",
       "        text-align: right;\n",
       "    }\n",
       "</style>\n",
       "<table border=\"1\" class=\"dataframe\">\n",
       "  <thead>\n",
       "    <tr style=\"text-align: right;\">\n",
       "      <th></th>\n",
       "      <th>store_id</th>\n",
       "      <th>sku_id</th>\n",
       "      <th>total_price</th>\n",
       "      <th>base_price</th>\n",
       "      <th>is_featured_sku</th>\n",
       "      <th>is_display_sku</th>\n",
       "      <th>featured_display</th>\n",
       "      <th>Month</th>\n",
       "      <th>Median Sales</th>\n",
       "      <th>LaggedSales</th>\n",
       "      <th>LaggedAvailable</th>\n",
       "      <th>Sales_dif</th>\n",
       "    </tr>\n",
       "  </thead>\n",
       "  <tbody>\n",
       "    <tr>\n",
       "      <th>count</th>\n",
       "      <td>137461.000000</td>\n",
       "      <td>137461.000000</td>\n",
       "      <td>137460.000000</td>\n",
       "      <td>137461.000000</td>\n",
       "      <td>137461.000000</td>\n",
       "      <td>137461.000000</td>\n",
       "      <td>137461.000000</td>\n",
       "      <td>137461.000000</td>\n",
       "      <td>137461.000000</td>\n",
       "      <td>137461.000000</td>\n",
       "      <td>137461.000000</td>\n",
       "      <td>137461.000000</td>\n",
       "    </tr>\n",
       "    <tr>\n",
       "      <th>mean</th>\n",
       "      <td>37.008264</td>\n",
       "      <td>9.661846</td>\n",
       "      <td>206.282942</td>\n",
       "      <td>218.840694</td>\n",
       "      <td>0.093488</td>\n",
       "      <td>0.131914</td>\n",
       "      <td>0.119845</td>\n",
       "      <td>5.268993</td>\n",
       "      <td>44.379468</td>\n",
       "      <td>48.465925</td>\n",
       "      <td>0.462247</td>\n",
       "      <td>-4.086457</td>\n",
       "    </tr>\n",
       "    <tr>\n",
       "      <th>std</th>\n",
       "      <td>22.392917</td>\n",
       "      <td>6.586115</td>\n",
       "      <td>103.602523</td>\n",
       "      <td>110.809579</td>\n",
       "      <td>0.291117</td>\n",
       "      <td>0.338398</td>\n",
       "      <td>0.324781</td>\n",
       "      <td>3.387140</td>\n",
       "      <td>35.351001</td>\n",
       "      <td>51.628097</td>\n",
       "      <td>0.498575</td>\n",
       "      <td>35.618600</td>\n",
       "    </tr>\n",
       "    <tr>\n",
       "      <th>min</th>\n",
       "      <td>0.000000</td>\n",
       "      <td>0.000000</td>\n",
       "      <td>41.325000</td>\n",
       "      <td>61.275000</td>\n",
       "      <td>0.000000</td>\n",
       "      <td>0.000000</td>\n",
       "      <td>0.000000</td>\n",
       "      <td>0.000000</td>\n",
       "      <td>3.500000</td>\n",
       "      <td>1.000000</td>\n",
       "      <td>0.000000</td>\n",
       "      <td>-2717.000000</td>\n",
       "    </tr>\n",
       "    <tr>\n",
       "      <th>25%</th>\n",
       "      <td>17.000000</td>\n",
       "      <td>4.000000</td>\n",
       "      <td>130.387500</td>\n",
       "      <td>133.237500</td>\n",
       "      <td>0.000000</td>\n",
       "      <td>0.000000</td>\n",
       "      <td>0.000000</td>\n",
       "      <td>2.000000</td>\n",
       "      <td>21.000000</td>\n",
       "      <td>20.000000</td>\n",
       "      <td>0.000000</td>\n",
       "      <td>0.000000</td>\n",
       "    </tr>\n",
       "    <tr>\n",
       "      <th>50%</th>\n",
       "      <td>36.000000</td>\n",
       "      <td>10.000000</td>\n",
       "      <td>198.075000</td>\n",
       "      <td>205.912500</td>\n",
       "      <td>0.000000</td>\n",
       "      <td>0.000000</td>\n",
       "      <td>0.000000</td>\n",
       "      <td>5.000000</td>\n",
       "      <td>34.000000</td>\n",
       "      <td>35.000000</td>\n",
       "      <td>0.000000</td>\n",
       "      <td>0.000000</td>\n",
       "    </tr>\n",
       "    <tr>\n",
       "      <th>75%</th>\n",
       "      <td>57.000000</td>\n",
       "      <td>14.000000</td>\n",
       "      <td>232.987500</td>\n",
       "      <td>234.412500</td>\n",
       "      <td>0.000000</td>\n",
       "      <td>0.000000</td>\n",
       "      <td>0.000000</td>\n",
       "      <td>8.000000</td>\n",
       "      <td>56.000000</td>\n",
       "      <td>59.000000</td>\n",
       "      <td>1.000000</td>\n",
       "      <td>0.000000</td>\n",
       "    </tr>\n",
       "    <tr>\n",
       "      <th>max</th>\n",
       "      <td>75.000000</td>\n",
       "      <td>27.000000</td>\n",
       "      <td>533.662500</td>\n",
       "      <td>533.662500</td>\n",
       "      <td>1.000000</td>\n",
       "      <td>1.000000</td>\n",
       "      <td>1.000000</td>\n",
       "      <td>11.000000</td>\n",
       "      <td>435.000000</td>\n",
       "      <td>2876.000000</td>\n",
       "      <td>1.000000</td>\n",
       "      <td>327.000000</td>\n",
       "    </tr>\n",
       "  </tbody>\n",
       "</table>\n",
       "</div>"
      ],
      "text/plain": [
       "            store_id         sku_id    total_price     base_price  \\\n",
       "count  137461.000000  137461.000000  137460.000000  137461.000000   \n",
       "mean       37.008264       9.661846     206.282942     218.840694   \n",
       "std        22.392917       6.586115     103.602523     110.809579   \n",
       "min         0.000000       0.000000      41.325000      61.275000   \n",
       "25%        17.000000       4.000000     130.387500     133.237500   \n",
       "50%        36.000000      10.000000     198.075000     205.912500   \n",
       "75%        57.000000      14.000000     232.987500     234.412500   \n",
       "max        75.000000      27.000000     533.662500     533.662500   \n",
       "\n",
       "       is_featured_sku  is_display_sku  featured_display          Month  \\\n",
       "count    137461.000000   137461.000000     137461.000000  137461.000000   \n",
       "mean          0.093488        0.131914          0.119845       5.268993   \n",
       "std           0.291117        0.338398          0.324781       3.387140   \n",
       "min           0.000000        0.000000          0.000000       0.000000   \n",
       "25%           0.000000        0.000000          0.000000       2.000000   \n",
       "50%           0.000000        0.000000          0.000000       5.000000   \n",
       "75%           0.000000        0.000000          0.000000       8.000000   \n",
       "max           1.000000        1.000000          1.000000      11.000000   \n",
       "\n",
       "        Median Sales    LaggedSales  LaggedAvailable      Sales_dif  \n",
       "count  137461.000000  137461.000000    137461.000000  137461.000000  \n",
       "mean       44.379468      48.465925         0.462247      -4.086457  \n",
       "std        35.351001      51.628097         0.498575      35.618600  \n",
       "min         3.500000       1.000000         0.000000   -2717.000000  \n",
       "25%        21.000000      20.000000         0.000000       0.000000  \n",
       "50%        34.000000      35.000000         0.000000       0.000000  \n",
       "75%        56.000000      59.000000         1.000000       0.000000  \n",
       "max       435.000000    2876.000000         1.000000     327.000000  "
      ]
     },
     "execution_count": 143,
     "metadata": {},
     "output_type": "execute_result"
    }
   ],
   "source": [
    "train_x[selector].describe()"
   ]
  },
  {
   "cell_type": "code",
   "execution_count": 106,
   "metadata": {},
   "outputs": [],
   "source": [
    "from sklearn.metrics import mean_squared_error, make_scorer\n",
    "\n",
    "def custom_metrics(y_true, y_pred):\n",
    "    mse = mean_squared_error(y_true, y_pred)\n",
    "    error = np.sqrt(mse)\n",
    "    error = error * 100\n",
    "    return error"
   ]
  },
  {
   "cell_type": "code",
   "execution_count": 107,
   "metadata": {},
   "outputs": [],
   "source": [
    "rmsle = make_scorer(custom_metrics, greater_is_better=False)"
   ]
  },
  {
   "cell_type": "code",
   "execution_count": 144,
   "metadata": {},
   "outputs": [],
   "source": [
    "from sklearn.model_selection import cross_val_score\n",
    "from xgboost import XGBRegressor\n",
    "\n",
    "xgr = XGBRegressor(n_estimators = 60)\n",
    "\n",
    "scores = cross_val_score(xgr, train_x[selector], np.log1p(train_x['units_sold']), cv = 5, scoring = rmsle)"
   ]
  },
  {
   "cell_type": "code",
   "execution_count": 166,
   "metadata": {},
   "outputs": [],
   "source": [
    "from sklearn.model_selection import cross_val_score\n",
    "from lightgbm import LGBMRegressor\n",
    "\n",
    "xgr = LGBMRegressor()\n",
    "\n",
    "scores = cross_val_score(xgr, train_x[selector], np.log1p(train_x['units_sold']), cv = 5, scoring = rmsle)"
   ]
  },
  {
   "cell_type": "code",
   "execution_count": 167,
   "metadata": {},
   "outputs": [
    {
     "data": {
      "text/plain": [
       "-43.521112803550054"
      ]
     },
     "execution_count": 167,
     "metadata": {},
     "output_type": "execute_result"
    }
   ],
   "source": [
    "scores.mean()"
   ]
  },
  {
   "cell_type": "code",
   "execution_count": 217,
   "metadata": {},
   "outputs": [],
   "source": [
    "xgr = LGBMRegressor(n_estimators=140, max_depth=6, num_leaves=70)\n",
    "\n",
    "scores = cross_val_score(xgr, train_x[selector], train_x['Difference'], cv = 5, scoring = 'neg_mean_squared_error')"
   ]
  },
  {
   "cell_type": "code",
   "execution_count": 218,
   "metadata": {},
   "outputs": [
    {
     "data": {
      "text/plain": [
       "-899.2668434144692"
      ]
     },
     "execution_count": 218,
     "metadata": {},
     "output_type": "execute_result"
    }
   ],
   "source": [
    "scores.mean()"
   ]
  },
  {
   "cell_type": "code",
   "execution_count": null,
   "metadata": {},
   "outputs": [],
   "source": []
  },
  {
   "cell_type": "code",
   "execution_count": 219,
   "metadata": {},
   "outputs": [
    {
     "data": {
      "text/plain": [
       "LGBMRegressor(boosting_type='gbdt', class_weight=None, colsample_bytree=1.0,\n",
       "              importance_type='split', learning_rate=0.1, max_depth=6,\n",
       "              min_child_samples=20, min_child_weight=0.001, min_split_gain=0.0,\n",
       "              n_estimators=140, n_jobs=-1, num_leaves=70, objective=None,\n",
       "              random_state=None, reg_alpha=0.0, reg_lambda=0.0, silent=True,\n",
       "              subsample=1.0, subsample_for_bin=200000, subsample_freq=0)"
      ]
     },
     "execution_count": 219,
     "metadata": {},
     "output_type": "execute_result"
    }
   ],
   "source": [
    "xgr.fit(train_x[selector], train_x['Difference'])"
   ]
  },
  {
   "cell_type": "code",
   "execution_count": 220,
   "metadata": {},
   "outputs": [
    {
     "data": {
      "text/plain": [
       "array([ 475,  456, 1172,  839,  261,  218,   67,  585,  887,  522,  160,\n",
       "        517], dtype=int32)"
      ]
     },
     "execution_count": 220,
     "metadata": {},
     "output_type": "execute_result"
    }
   ],
   "source": [
    "xgr.feature_importances_"
   ]
  },
  {
   "cell_type": "code",
   "execution_count": 235,
   "metadata": {},
   "outputs": [],
   "source": [
    "preds = xgr.predict(val_x[selector])"
   ]
  },
  {
   "cell_type": "code",
   "execution_count": 236,
   "metadata": {},
   "outputs": [],
   "source": [
    "preds = val_x['Median Sales'] - preds"
   ]
  },
  {
   "cell_type": "code",
   "execution_count": 237,
   "metadata": {},
   "outputs": [],
   "source": [
    "preds_df = pd.DataFrame(preds)"
   ]
  },
  {
   "cell_type": "code",
   "execution_count": 240,
   "metadata": {},
   "outputs": [
    {
     "data": {
      "text/html": [
       "<div>\n",
       "<style scoped>\n",
       "    .dataframe tbody tr th:only-of-type {\n",
       "        vertical-align: middle;\n",
       "    }\n",
       "\n",
       "    .dataframe tbody tr th {\n",
       "        vertical-align: top;\n",
       "    }\n",
       "\n",
       "    .dataframe thead th {\n",
       "        text-align: right;\n",
       "    }\n",
       "</style>\n",
       "<table border=\"1\" class=\"dataframe\">\n",
       "  <thead>\n",
       "    <tr style=\"text-align: right;\">\n",
       "      <th></th>\n",
       "      <th>Median Sales</th>\n",
       "    </tr>\n",
       "  </thead>\n",
       "  <tbody>\n",
       "    <tr>\n",
       "      <th>147232</th>\n",
       "      <td>-1.578436</td>\n",
       "    </tr>\n",
       "  </tbody>\n",
       "</table>\n",
       "</div>"
      ],
      "text/plain": [
       "        Median Sales\n",
       "147232     -1.578436"
      ]
     },
     "execution_count": 240,
     "metadata": {},
     "output_type": "execute_result"
    }
   ],
   "source": [
    "preds_df.loc[preds_df['Median Sales'] < 0]"
   ]
  },
  {
   "cell_type": "code",
   "execution_count": 242,
   "metadata": {},
   "outputs": [],
   "source": [
    "preds_df['Median Sales'][147232] = 0"
   ]
  },
  {
   "cell_type": "code",
   "execution_count": 245,
   "metadata": {},
   "outputs": [
    {
     "data": {
      "text/plain": [
       "count    12689.000000\n",
       "mean        51.986133\n",
       "std         50.192296\n",
       "min          0.000000\n",
       "25%         21.892347\n",
       "50%         36.630101\n",
       "75%         62.648997\n",
       "max        800.803436\n",
       "Name: Median Sales, dtype: float64"
      ]
     },
     "execution_count": 245,
     "metadata": {},
     "output_type": "execute_result"
    }
   ],
   "source": [
    "preds_df['Median Sales'].describe()"
   ]
  },
  {
   "cell_type": "code",
   "execution_count": 247,
   "metadata": {},
   "outputs": [
    {
     "data": {
      "text/plain": [
       "40.008392559205916"
      ]
     },
     "execution_count": 247,
     "metadata": {},
     "output_type": "execute_result"
    }
   ],
   "source": [
    "custom_metrics(np.log1p(val_x['units_sold']), np.log1p(preds_df['Median Sales']))"
   ]
  },
  {
   "cell_type": "code",
   "execution_count": 248,
   "metadata": {},
   "outputs": [
    {
     "data": {
      "text/plain": [
       "LGBMRegressor(boosting_type='gbdt', class_weight=None, colsample_bytree=1.0,\n",
       "              importance_type='split', learning_rate=0.1, max_depth=6,\n",
       "              min_child_samples=20, min_child_weight=0.001, min_split_gain=0.0,\n",
       "              n_estimators=140, n_jobs=-1, num_leaves=70, objective=None,\n",
       "              random_state=None, reg_alpha=0.0, reg_lambda=0.0, silent=True,\n",
       "              subsample=1.0, subsample_for_bin=200000, subsample_freq=0)"
      ]
     },
     "execution_count": 248,
     "metadata": {},
     "output_type": "execute_result"
    }
   ],
   "source": [
    "xgr.fit(train[selector],train['Difference'])"
   ]
  },
  {
   "cell_type": "code",
   "execution_count": 249,
   "metadata": {},
   "outputs": [],
   "source": [
    "test = test.sort_values('record_ID').reset_index(drop = True)"
   ]
  },
  {
   "cell_type": "code",
   "execution_count": 250,
   "metadata": {},
   "outputs": [],
   "source": [
    "preds = xgr.predict(test[selector])"
   ]
  },
  {
   "cell_type": "code",
   "execution_count": 251,
   "metadata": {},
   "outputs": [
    {
     "data": {
      "text/plain": [
       "array([ -0.95366953,  -1.71951489,   0.56344899, ..., -12.31698029,\n",
       "        -0.82774125,   0.54900983])"
      ]
     },
     "execution_count": 251,
     "metadata": {},
     "output_type": "execute_result"
    }
   ],
   "source": [
    "preds"
   ]
  },
  {
   "cell_type": "code",
   "execution_count": 252,
   "metadata": {},
   "outputs": [],
   "source": [
    "predicted_sales = test['Median Sales'] - preds"
   ]
  },
  {
   "cell_type": "code",
   "execution_count": 253,
   "metadata": {},
   "outputs": [
    {
     "data": {
      "text/plain": [
       "0        21.453670\n",
       "1        24.719515\n",
       "2        17.436551\n",
       "3        24.358032\n",
       "4        26.125916\n",
       "           ...    \n",
       "13855    42.092512\n",
       "13856    36.992298\n",
       "13857    28.316980\n",
       "13858    11.327741\n",
       "13859     9.450990\n",
       "Name: Median Sales, Length: 13860, dtype: float64"
      ]
     },
     "execution_count": 253,
     "metadata": {},
     "output_type": "execute_result"
    }
   ],
   "source": [
    "predicted_sales"
   ]
  },
  {
   "cell_type": "code",
   "execution_count": 98,
   "metadata": {},
   "outputs": [],
   "source": [
    "sub = pd.read_csv('/run/media/devesh/Files/Projects/Demand Forecasting/input/sample_submission.csv')"
   ]
  },
  {
   "cell_type": "code",
   "execution_count": 254,
   "metadata": {},
   "outputs": [
    {
     "data": {
      "text/html": [
       "<div>\n",
       "<style scoped>\n",
       "    .dataframe tbody tr th:only-of-type {\n",
       "        vertical-align: middle;\n",
       "    }\n",
       "\n",
       "    .dataframe tbody tr th {\n",
       "        vertical-align: top;\n",
       "    }\n",
       "\n",
       "    .dataframe thead th {\n",
       "        text-align: right;\n",
       "    }\n",
       "</style>\n",
       "<table border=\"1\" class=\"dataframe\">\n",
       "  <thead>\n",
       "    <tr style=\"text-align: right;\">\n",
       "      <th></th>\n",
       "      <th>record_ID</th>\n",
       "      <th>units_sold</th>\n",
       "    </tr>\n",
       "  </thead>\n",
       "  <tbody>\n",
       "    <tr>\n",
       "      <th>0</th>\n",
       "      <td>212645</td>\n",
       "      <td>20.929181</td>\n",
       "    </tr>\n",
       "    <tr>\n",
       "      <th>1</th>\n",
       "      <td>212646</td>\n",
       "      <td>23.429181</td>\n",
       "    </tr>\n",
       "    <tr>\n",
       "      <th>2</th>\n",
       "      <td>212647</td>\n",
       "      <td>17.468811</td>\n",
       "    </tr>\n",
       "    <tr>\n",
       "      <th>3</th>\n",
       "      <td>212648</td>\n",
       "      <td>24.148250</td>\n",
       "    </tr>\n",
       "    <tr>\n",
       "      <th>4</th>\n",
       "      <td>212649</td>\n",
       "      <td>20.783231</td>\n",
       "    </tr>\n",
       "  </tbody>\n",
       "</table>\n",
       "</div>"
      ],
      "text/plain": [
       "   record_ID  units_sold\n",
       "0     212645   20.929181\n",
       "1     212646   23.429181\n",
       "2     212647   17.468811\n",
       "3     212648   24.148250\n",
       "4     212649   20.783231"
      ]
     },
     "execution_count": 254,
     "metadata": {},
     "output_type": "execute_result"
    }
   ],
   "source": [
    "sub.head()"
   ]
  },
  {
   "cell_type": "code",
   "execution_count": 255,
   "metadata": {},
   "outputs": [],
   "source": [
    "sub['units_sold'] = predicted_sales"
   ]
  },
  {
   "cell_type": "code",
   "execution_count": 258,
   "metadata": {},
   "outputs": [
    {
     "data": {
      "text/html": [
       "<div>\n",
       "<style scoped>\n",
       "    .dataframe tbody tr th:only-of-type {\n",
       "        vertical-align: middle;\n",
       "    }\n",
       "\n",
       "    .dataframe tbody tr th {\n",
       "        vertical-align: top;\n",
       "    }\n",
       "\n",
       "    .dataframe thead th {\n",
       "        text-align: right;\n",
       "    }\n",
       "</style>\n",
       "<table border=\"1\" class=\"dataframe\">\n",
       "  <thead>\n",
       "    <tr style=\"text-align: right;\">\n",
       "      <th></th>\n",
       "      <th>record_ID</th>\n",
       "      <th>units_sold</th>\n",
       "    </tr>\n",
       "  </thead>\n",
       "  <tbody>\n",
       "    <tr>\n",
       "      <th>8523</th>\n",
       "      <td>224715</td>\n",
       "      <td>-0.572101</td>\n",
       "    </tr>\n",
       "  </tbody>\n",
       "</table>\n",
       "</div>"
      ],
      "text/plain": [
       "      record_ID  units_sold\n",
       "8523     224715   -0.572101"
      ]
     },
     "execution_count": 258,
     "metadata": {},
     "output_type": "execute_result"
    }
   ],
   "source": [
    "sub.loc[sub['units_sold'] < 0]"
   ]
  },
  {
   "cell_type": "code",
   "execution_count": 260,
   "metadata": {},
   "outputs": [
    {
     "name": "stderr",
     "output_type": "stream",
     "text": [
      "<ipython-input-260-5b57c8f9b5b9>:1: SettingWithCopyWarning: \n",
      "A value is trying to be set on a copy of a slice from a DataFrame\n",
      "\n",
      "See the caveats in the documentation: https://pandas.pydata.org/pandas-docs/stable/user_guide/indexing.html#returning-a-view-versus-a-copy\n",
      "  sub['units_sold'][8523] = 0\n"
     ]
    }
   ],
   "source": [
    "sub['units_sold'][8523] = 0"
   ]
  },
  {
   "cell_type": "code",
   "execution_count": 262,
   "metadata": {},
   "outputs": [],
   "source": [
    "sub.to_csv('lgr_second.csv', index = False)"
   ]
  },
  {
   "cell_type": "code",
   "execution_count": 261,
   "metadata": {},
   "outputs": [
    {
     "data": {
      "text/plain": [
       "0        21.453670\n",
       "1        24.719515\n",
       "2        17.436551\n",
       "3        24.358032\n",
       "4        26.125916\n",
       "           ...    \n",
       "13855    42.092512\n",
       "13856    36.992298\n",
       "13857    28.316980\n",
       "13858    11.327741\n",
       "13859     9.450990\n",
       "Name: units_sold, Length: 13860, dtype: float64"
      ]
     },
     "execution_count": 261,
     "metadata": {},
     "output_type": "execute_result"
    }
   ],
   "source": [
    "sub['units_sold']"
   ]
  },
  {
   "cell_type": "code",
   "execution_count": null,
   "metadata": {},
   "outputs": [],
   "source": []
  }
 ],
 "metadata": {
  "kernelspec": {
   "display_name": "Python 3",
   "language": "python",
   "name": "python3"
  },
  "language_info": {
   "codemirror_mode": {
    "name": "ipython",
    "version": 3
   },
   "file_extension": ".py",
   "mimetype": "text/x-python",
   "name": "python",
   "nbconvert_exporter": "python",
   "pygments_lexer": "ipython3",
   "version": "3.8.3"
  }
 },
 "nbformat": 4,
 "nbformat_minor": 4
}
